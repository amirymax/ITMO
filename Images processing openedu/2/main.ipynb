{
 "cells": [
  {
   "cell_type": "code",
   "execution_count": 1,
   "metadata": {},
   "outputs": [],
   "source": [
    "\n",
    "import cv2"
   ]
  },
  {
   "cell_type": "markdown",
   "metadata": {},
   "source": [
    "# Task 1"
   ]
  },
  {
   "cell_type": "code",
   "execution_count": 6,
   "metadata": {},
   "outputs": [
    {
     "name": "stdout",
     "output_type": "stream",
     "text": [
      "Ширина изображения в пикселях: 5760\n",
      "Высота изображения в пикселях: 3840\n"
     ]
    }
   ],
   "source": [
    "image_path = \"img.jpg\"\n",
    "img = cv2.imread(image_path)\n",
    "\n",
    "\n",
    "# Определение разрешения изображения\n",
    "height, width, channels = img.shape\n",
    "\n",
    "# Вывод ширины и высоты изображения\n",
    "print(f\"Ширина изображения в пикселях: {width}\")\n",
    "print(f\"Высота изображения в пикселях: {height}\")"
   ]
  },
  {
   "cell_type": "code",
   "execution_count": 11,
   "metadata": {},
   "outputs": [
    {
     "name": "stdout",
     "output_type": "stream",
     "text": [
      "Интенсивность канала R: 217\n",
      "Интенсивность канала G: 220\n",
      "Интенсивность канала B: 211\n"
     ]
    }
   ],
   "source": [
    "# Определение интенсивности каналов R, G, B для указанного пикселя\n",
    "pixel_value = img[1953, 2875]  # Пиксели в OpenCV индексируются с 0\n",
    "intensity_B, intensity_G, intensity_R = pixel_value\n",
    "\n",
    "# Вывод значений интенсивности\n",
    "print(f\"Интенсивность канала R: {intensity_R}\")\n",
    "print(f\"Интенсивность канала G: {intensity_G}\")\n",
    "print(f\"Интенсивность канала B: {intensity_B}\")"
   ]
  },
  {
   "cell_type": "markdown",
   "metadata": {},
   "source": [
    "# Task 2"
   ]
  },
  {
   "cell_type": "code",
   "execution_count": 17,
   "metadata": {},
   "outputs": [],
   "source": [
    "img = cv2.imread(\"second_img.jpg\")\n",
    "img_rgb = cv2.cvtColor(img, cv2.COLOR_BGR2RGB)\n",
    "subimg = img[793:1653, 1614:2074]\n",
    "cv2.imshow('photo', subimg)\n",
    "cv2.waitKey(0) \n",
    "  \n",
    "# closing all open windows \n",
    "cv2.destroyAllWindows() "
   ]
  },
  {
   "cell_type": "markdown",
   "metadata": {},
   "source": [
    "# Task 3"
   ]
  },
  {
   "cell_type": "code",
   "execution_count": 18,
   "metadata": {},
   "outputs": [
    {
     "name": "stdout",
     "output_type": "stream",
     "text": [
      "Ширина измененного изображения: 600\n",
      "Высота измененного изображения: 400\n"
     ]
    },
    {
     "data": {
      "text/plain": [
       "True"
      ]
     },
     "execution_count": 18,
     "metadata": {},
     "output_type": "execute_result"
    }
   ],
   "source": [
    "img = cv2.imread('third_img.jpg')\n",
    "new_width = 600\n",
    "ratio = new_width / img.shape[1]\n",
    "new_height = int(img.shape[0] * ratio)\n",
    "\n",
    "# Сжатие изображения с использованием cv2.resize()\n",
    "resized_image = cv2.resize(img, (new_width, new_height), interpolation=cv2.INTER_AREA)\n",
    "\n",
    "# Вывод размеров измененного изображения\n",
    "print(f\"Ширина измененного изображения: {resized_image.shape[1]}\")\n",
    "print(f\"Высота измененного изображения: {resized_image.shape[0]}\")\n",
    "\n",
    "# Сохранение измененного изображения\n",
    "cv2.imwrite(\"путь_к_сохраненному_изображению.jpg\", resized_image)"
   ]
  }
 ],
 "metadata": {
  "kernelspec": {
   "display_name": "env",
   "language": "python",
   "name": "python3"
  },
  "language_info": {
   "codemirror_mode": {
    "name": "ipython",
    "version": 3
   },
   "file_extension": ".py",
   "mimetype": "text/x-python",
   "name": "python",
   "nbconvert_exporter": "python",
   "pygments_lexer": "ipython3",
   "version": "3.9.9"
  }
 },
 "nbformat": 4,
 "nbformat_minor": 2
}
