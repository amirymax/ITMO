{
 "cells": [
  {
   "cell_type": "code",
   "execution_count": 2,
   "metadata": {},
   "outputs": [],
   "source": [
    "import cv2\n",
    "import numpy as np\n",
    "import matplotlib.pyplot as plt"
   ]
  },
  {
   "cell_type": "code",
   "execution_count": 4,
   "metadata": {},
   "outputs": [],
   "source": [
    "image_path = '6_1.jpg'"
   ]
  },
  {
   "cell_type": "code",
   "execution_count": 34,
   "metadata": {},
   "outputs": [],
   "source": [
    "img = cv2.imread(image_path)\n",
    "sub_img = img[353:503, 550:695]\n",
    "# sub_img.shape\n",
    "# plt.imshow(img, cmap = 'gray')\n",
    "# plt.imshow(sub_img, cmap = 'gray')"
   ]
  },
  {
   "cell_type": "code",
   "execution_count": 35,
   "metadata": {},
   "outputs": [
    {
     "name": "stdout",
     "output_type": "stream",
     "text": [
      "Координата по горизонтали: 561\n",
      "Координата по вертикали: 451\n"
     ]
    }
   ],
   "source": [
    "img = cv2.cvtColor(img, cv2.COLOR_BGR2GRAY)\n",
    "sub_img = cv2.cvtColor(sub_img, cv2.COLOR_BGR2GRAY)\n",
    "sift = cv2.SIFT_create()\n",
    "\n",
    "# Найдите ключевые точки и дескрипторы для обоих изображений\n",
    "keypoints1, descriptors1 = sift.detectAndCompute(img, None)\n",
    "keypoints2, descriptors2 = sift.detectAndCompute(sub_img, None)\n",
    "\n",
    "# Используйте BFMatcher для нахождения совпадений\n",
    "bf = cv2.BFMatcher()\n",
    "matches = bf.knnMatch(descriptors1, descriptors2, k=2)\n",
    "\n",
    "# Примените фильтр для хороших совпадений\n",
    "good_matches = []\n",
    "for m, n in matches:\n",
    "    if m.distance < 0.75 * n.distance:\n",
    "        good_matches.append(m)\n",
    "\n",
    "# Отсортируйте совпадения по атрибуту distance\n",
    "sorted_matches = sorted(good_matches, key=lambda x: x.distance)\n",
    "\n",
    "# Получите координаты нулевой ключевой точки\n",
    "zero_keypoint = keypoints1[sorted_matches[0].queryIdx].pt\n",
    "\n",
    "# Выведите координату по горизонтали, округленную до целого\n",
    "horizontal_coordinate = round(zero_keypoint[0])\n",
    "print(\"Координата по горизонтали:\", horizontal_coordinate)\n",
    "\n",
    "vertical_coordinate = round(zero_keypoint[1])\n",
    "print(\"Координата по вертикали:\", vertical_coordinate)"
   ]
  },
  {
   "cell_type": "code",
   "execution_count": 42,
   "metadata": {},
   "outputs": [
    {
     "name": "stdout",
     "output_type": "stream",
     "text": [
      "201, 74, 119\n"
     ]
    }
   ],
   "source": [
    "image = cv2.imread(image_path)\n",
    "b, g, r = image[horizontal_coordinate, vertical_coordinate]\n",
    "print(f'{b}, {g}, {r}')"
   ]
  }
 ],
 "metadata": {
  "kernelspec": {
   "display_name": "env",
   "language": "python",
   "name": "python3"
  },
  "language_info": {
   "codemirror_mode": {
    "name": "ipython",
    "version": 3
   },
   "file_extension": ".py",
   "mimetype": "text/x-python",
   "name": "python",
   "nbconvert_exporter": "python",
   "pygments_lexer": "ipython3",
   "version": "3.9.9"
  }
 },
 "nbformat": 4,
 "nbformat_minor": 2
}
